{
 "cells": [
  {
   "cell_type": "markdown",
   "metadata": {},
   "source": [
    "This Python warmup notebook aims at walking you briefly through the main tools that will be used in the course.\n",
    "\n",
    "This warmup is compatible with both \n",
    "\n",
    "* `Python 2.7.w :: Anaconda 4.1.x` and \n",
    "* `Python 3.5.y :: Anaconda 4.2.z`\n",
    "\n",
    "tested with `w=12`, `x=1`, `y=2`, `z=0`. It may be compatible with other Python installations without Anaconda but we can't guarantee it (we'll assume you know what you're doing if you choose to follow that path)."
   ]
  },
  {
   "cell_type": "code",
   "execution_count": 1,
   "metadata": {},
   "outputs": [],
   "source": [
    "# in case you're on Python 2.7\n",
    "from __future__ import print_function, division \n",
    "\n",
    "# specific functions we'll use throughout\n",
    "from introQF_library import *"
   ]
  },
  {
   "cell_type": "markdown",
   "metadata": {
    "collapsed": true
   },
   "source": [
    "# Basic Types\n",
    "\n",
    "Declaring variables is pretty straightforward and so is declaring arrays using `numpy`"
   ]
  },
  {
   "cell_type": "code",
   "execution_count": 2,
   "metadata": {},
   "outputs": [
    {
     "name": "stdout",
     "output_type": "stream",
     "text": [
      "a: 5\n",
      "c: [ 5.  2.  3. -1.]\n",
      "c[0]: 5.0\n",
      "c[-1]: -1.0\n",
      "len(c): 4\n",
      "c.sum(): 9.0\n",
      "c.sum()==sum(c): True\n",
      "b<=7.0: True\n"
     ]
    }
   ],
   "source": [
    "a = 5    # integer\n",
    "b = 6.0  # floating point number\n",
    "\n",
    "c = np.array([5.0, 2.0, 3.0, -1.0]) # array of floating point number\n",
    "\n",
    "# Note the brackets when using the print function, \n",
    "# we're using the (Python 2,3 compatible) print function \n",
    "# from the __future__ library\n",
    "print('a: {}'.format(a))\n",
    "print('c: {}'.format(c))\n",
    "print('c[0]: {}'.format(c[0]))       # accessing first element of an array\n",
    "print('c[-1]: {}'.format(c[-1]))     # accessing the last element\n",
    "print('len(c): {}'.format(len(c)))   # computing the length\n",
    "print('c.sum(): {}'.format(c.sum()))\n",
    "print('c.sum()==sum(c): {}'.format(c.sum()==sum(c))) # a boolean: checking for equality\n",
    "print('b<=7.0: {}'.format(b<=7.0))   # another boolean"
   ]
  },
  {
   "cell_type": "markdown",
   "metadata": {},
   "source": [
    "# Basic Operations\n",
    "\n",
    "Operations on floating point numbers are as you would expect when using a standard scientific calculator, for specific mathematical functions, use `np.` to use the `numpy` library (e.g., exponential, square root, ... )"
   ]
  },
  {
   "cell_type": "code",
   "execution_count": 4,
   "metadata": {},
   "outputs": [
    {
     "name": "stdout",
     "output_type": "stream",
     "text": [
      "2587.39626619\n"
     ]
    }
   ],
   "source": [
    "# basic operations on floats as you'd expect them\n",
    "print( np.exp((2.0 * 3.0 + 5 - np.pi)) )"
   ]
  },
  {
   "cell_type": "markdown",
   "metadata": {},
   "source": [
    "Operations on strings and booleans are reasonably straightforward too"
   ]
  },
  {
   "cell_type": "code",
   "execution_count": 6,
   "metadata": {},
   "outputs": [
    {
     "name": "stdout",
     "output_type": "stream",
     "text": [
      "True\n"
     ]
    }
   ],
   "source": [
    "# != means not equal, then use of {and, or, not} for relations between booleans\n",
    "print(0!=1 and (not False or False))"
   ]
  },
  {
   "cell_type": "markdown",
   "metadata": {},
   "source": [
    "You can combine `string`s using `+`:"
   ]
  },
  {
   "cell_type": "code",
   "execution_count": 7,
   "metadata": {},
   "outputs": [
    {
     "data": {
      "text/plain": [
       "'first string another string'"
      ]
     },
     "execution_count": 7,
     "metadata": {},
     "output_type": "execute_result"
    }
   ],
   "source": [
    "\"first string \"+\"another string\""
   ]
  },
  {
   "cell_type": "markdown",
   "metadata": {},
   "source": [
    "Formatting is a convenient way to display values of variables within a string.\n",
    "\n",
    "* Use `{}` to just print the variable \"as is\" using default formatting\n",
    "* Use `{i:.kf}` with `i=0,1,...` and `k=1,2,...` to print variable `i` with `k` decimals\n",
    "* Use `{i:.ke}` to do the same but using scientific notations"
   ]
  },
  {
   "cell_type": "code",
   "execution_count": 7,
   "metadata": {},
   "outputs": [
    {
     "name": "stdout",
     "output_type": "stream",
     "text": [
      "Pi rounded to 3 decimals: 3.142 and squared: 9.870\n"
     ]
    }
   ],
   "source": [
    "print(\"Pi rounded to 3 decimals: {0:.3f} and squared: {1:.3f}\".format(np.pi, np.pi**2))"
   ]
  },
  {
   "cell_type": "markdown",
   "metadata": {},
   "source": [
    "### A very small note on Python 3 vs Python 2: \n",
    "\n",
    "there are a few differences, some of which actually matter and are imported via the `from __future__ import print_function, division` (there are other differences but these two actually matter in the course).\n",
    "The print function is called with brackets so `print(\"blah\")` instead of `print \"blah\"`, this is in line with the way most functions are called in python.\n",
    "The division returns a float if need be so `3/4==0.75` (now) and not `3/4==0` (before). If you do want the floored division use `3//4` and `3%4` for the remainder.\n",
    "\n",
    "Here all the code generated is Python 2 and Python 3 compliant"
   ]
  },
  {
   "cell_type": "code",
   "execution_count": 8,
   "metadata": {},
   "outputs": [
    {
     "name": "stdout",
     "output_type": "stream",
     "text": [
      "True\n",
      "True\n"
     ]
    }
   ],
   "source": [
    "print(3/4==0.75)\n",
    "print(3//4==0)"
   ]
  },
  {
   "cell_type": "markdown",
   "metadata": {},
   "source": [
    "# A very brief look at lists\n",
    "\n",
    "List are collections of values, for example of integers. \n",
    "In the course we will favour `np.array` for numerical values which offer some built in mathematical methods which is convenient, but will use lists ocasionnally too"
   ]
  },
  {
   "cell_type": "code",
   "execution_count": 9,
   "metadata": {},
   "outputs": [
    {
     "name": "stdout",
     "output_type": "stream",
     "text": [
      "1\n",
      "5\n"
     ]
    }
   ],
   "source": [
    "mylist = [1, 2, 3, 4, 5]\n",
    "print(mylist[0])   # 0 indexing in python\n",
    "print(len(mylist)) # length (number of elements) of the list"
   ]
  },
  {
   "cell_type": "markdown",
   "metadata": {},
   "source": [
    "# Functions & Loops"
   ]
  },
  {
   "cell_type": "markdown",
   "metadata": {},
   "source": [
    "To define a simple function, use the word `def`. \n",
    "Do not forget the colon `:` nor the indentation (it matters in Python). \n",
    "Note the use of `np.sqrt` to call mathematical functions (here the square root)"
   ]
  },
  {
   "cell_type": "code",
   "execution_count": 12,
   "metadata": {},
   "outputs": [
    {
     "name": "stdout",
     "output_type": "stream",
     "text": [
      "2.2360679775\n"
     ]
    }
   ],
   "source": [
    "def a_simple_function(var1, var2):\n",
    "    # var1**2 is the square of var1\n",
    "    return np.sqrt(var1**2+var2**2) \n",
    "    \n",
    "# unindenting, we're now out of the scope of the function\n",
    "print(a_simple_function(1.0, 2.0))"
   ]
  },
  {
   "cell_type": "markdown",
   "metadata": {},
   "source": [
    "## Conditional statements\n",
    "\n",
    "You can make conditional statements using `if`-`else`, don't forget the colon `:` or the indentation:"
   ]
  },
  {
   "cell_type": "code",
   "execution_count": 13,
   "metadata": {},
   "outputs": [
    {
     "name": "stdout",
     "output_type": "stream",
     "text": [
      "this is true and will be printed\n"
     ]
    }
   ],
   "source": [
    "if (a_simple_function(1.0, 2.0) < 2.24):\n",
    "    print(\"this is true and will be printed\")\n",
    "else:\n",
    "    print(\"this is not true (and will never be printed)\")"
   ]
  },
  {
   "cell_type": "markdown",
   "metadata": {},
   "source": [
    "In the case of short tests, it is sometimes convenient to write everything in one line. Avoid doing this if it makes your code objectively less readable. "
   ]
  },
  {
   "cell_type": "code",
   "execution_count": 15,
   "metadata": {},
   "outputs": [
    {
     "name": "stdout",
     "output_type": "stream",
     "text": [
      "yes\n"
     ]
    }
   ],
   "source": [
    "print(\"yes\" if (a_simple_function(1.0, 2.0) < 2.24) else \"no\")"
   ]
  },
  {
   "cell_type": "markdown",
   "metadata": {},
   "source": [
    "## Inline functions: lambdas\n",
    "\n",
    "Although not always encouraged, it can be very convenient (and it will be used occasionally in the course) to define one-liner functions. \n",
    "This can be done using the `lambda` keyword. Every lambda expression can be replaced by a `def` statement if you prefer not to use lambdas."
   ]
  },
  {
   "cell_type": "code",
   "execution_count": 26,
   "metadata": {},
   "outputs": [
    {
     "name": "stdout",
     "output_type": "stream",
     "text": [
      "5\n"
     ]
    }
   ],
   "source": [
    "fun = lambda x: x*x+x-1\n",
    "\n",
    "print(fun(2))"
   ]
  },
  {
   "cell_type": "markdown",
   "metadata": {},
   "source": [
    "## Loops\n",
    "\n",
    "Loops can be defined using `for` and `while`. For the `for` loop, it is convenient to use the `in` keyword to say that a variable should take all values in a collection (e.g. a list). Note also the indentation, as always"
   ]
  },
  {
   "cell_type": "code",
   "execution_count": 27,
   "metadata": {},
   "outputs": [
    {
     "name": "stdout",
     "output_type": "stream",
     "text": [
      "1\n",
      "2\n",
      "3\n",
      "4\n"
     ]
    }
   ],
   "source": [
    "for val in [1, 2, 3, 4]:\n",
    "    print(val)"
   ]
  },
  {
   "cell_type": "markdown",
   "metadata": {},
   "source": [
    "the while loop works with a condition that has to be eventually broken:"
   ]
  },
  {
   "cell_type": "code",
   "execution_count": 28,
   "metadata": {},
   "outputs": [
    {
     "name": "stdout",
     "output_type": "stream",
     "text": [
      "1\n",
      "4\n",
      "9\n",
      "16\n",
      "25\n"
     ]
    }
   ],
   "source": [
    "counter = 1\n",
    "while (counter <= 5):\n",
    "    print(counter**2)\n",
    "    counter += 1 # increment the counter"
   ]
  },
  {
   "cell_type": "markdown",
   "metadata": {},
   "source": [
    "## List comprehension \n",
    "\n",
    "It is sometimes useful and convenient to define a list of objects defined by some relation to the index using a *list comprehension*:"
   ]
  },
  {
   "cell_type": "code",
   "execution_count": 35,
   "metadata": {},
   "outputs": [
    {
     "name": "stdout",
     "output_type": "stream",
     "text": [
      "[0.0, 3.141592653589793, 6.283185307179586, 9.42477796076938, 12.566370614359172]\n"
     ]
    }
   ],
   "source": [
    "g = lambda x: x * np.pi  # definition of an inline function\n",
    "h = [g(i) for i in range(5)]\n",
    "print(h)"
   ]
  },
  {
   "cell_type": "markdown",
   "metadata": {},
   "source": [
    "In the case above, `h` is a list where each element is computed with a function (`g`) over a range. Let's give another simple example using strings to fix ideas:"
   ]
  },
  {
   "cell_type": "code",
   "execution_count": 37,
   "metadata": {},
   "outputs": [
    {
     "name": "stdout",
     "output_type": "stream",
     "text": [
      "Hello Alice!\n",
      "Hello Bob!\n",
      "Hello Charlotte!\n"
     ]
    }
   ],
   "source": [
    "h2 = [\"Hello \"+name+\"!\" for name in [\"Alice\", \"Bob\", \"Charlotte\"]]\n",
    "\n",
    "for message in h2:\n",
    "    print(message)"
   ]
  },
  {
   "cell_type": "markdown",
   "metadata": {},
   "source": [
    "## Difference between List and Numpy Arrays\n",
    "\n",
    "Essentially, `Numpy arrays` natively allow a number of useful (mathematical) operations where a `list` does not. For example if you want to compute the \"dot product\" of two vectors the function `np.dot` is handy. Recall that the dot-product (inner product) is defined for two real vectors of identical dimensions as\n",
    "\n",
    "$\\langle x, y \\rangle = \\sum_{i=1}^d x_i y_i$\n",
    "\n",
    "In the course we will mostly use numpy arrays."
   ]
  },
  {
   "cell_type": "code",
   "execution_count": 38,
   "metadata": {},
   "outputs": [
    {
     "name": "stdout",
     "output_type": "stream",
     "text": [
      "10\n",
      "10\n"
     ]
    }
   ],
   "source": [
    "list1 = [1, 2, 3]\n",
    "list2 = [3, 2, 1]\n",
    "arr1  = np.array(list1)\n",
    "arr2  = np.array(list2)\n",
    "\n",
    "# using lists, you have to manually code the dot product:\n",
    "resList = 0\n",
    "\n",
    "dot_list = sum(list1[i]*list2[i] for i in range(len(list1)))\n",
    "\n",
    "print(dot_list)\n",
    "# with the numpy array, it's directly available:\n",
    "print(np.dot(arr1, arr2))"
   ]
  },
  {
   "cell_type": "markdown",
   "metadata": {},
   "source": [
    "# Plotting\n",
    "\n",
    "We will consider the `matplotlib` library to display graphs. \n",
    "These can be used to generate graphs with a huge amount of flexibility (and it is reasonably easy to do so). \n",
    "We encourage you to consider the package `seaborn` (which can be installed with `pip`) when using `matplotlib` which tends to make everything look a lot nicer and gives you even more flexibility.\n",
    "\n",
    "Here are the libraries for `matplotlib`"
   ]
  },
  {
   "cell_type": "code",
   "execution_count": 39,
   "metadata": {},
   "outputs": [],
   "source": [
    "%matplotlib inline\n",
    "# ^ this first line ^ tells the notebook the plots are to appear \n",
    "# directly in the notebook and not in a separate window\n",
    "import matplotlib.pyplot as plt\n",
    "import seaborn as sns # install with `pip install seaborn` or comment"
   ]
  },
  {
   "cell_type": "markdown",
   "metadata": {},
   "source": [
    "We can now plot using it. Use the `np.linspace` function to get a range of values between two points.\n",
    "\n",
    "Note the options for the `plt.plot` function, `lw` goes for `linewidth`, increase or decrease at will, `color` is one of a wide range of color (look up the possibilities online), check out more options on the seaborn websites (with examples) or the matplotlib website."
   ]
  },
  {
   "cell_type": "code",
   "execution_count": 40,
   "metadata": {},
   "outputs": [
    {
     "data": {
      "text/plain": [
       "Text(0.5,1,'This is the title')"
      ]
     },
     "execution_count": 40,
     "metadata": {},
     "output_type": "execute_result"
    },
    {
     "data": {
      "image/png": "[encoded data removed]",
      "text/plain": [
       "<matplotlib.figure.Figure at 0x10a5b9a20>"
      ]
     },
     "metadata": {},
     "output_type": "display_data"
    }
   ],
   "source": [
    "x  = np.linspace(-5, 5, 100)          # 100 equally-spaced points between -5 and 5\n",
    "y  = np.exp(-x**2/2)/np.sqrt(2*np.pi) \n",
    "y2 = np.abs(np.sin(np.cos(x))/2.0)\n",
    "\n",
    "plt.plot(x, y, lw=3)\n",
    "plt.plot(x, y2, color=\"red\")\n",
    "plt.xlabel(\"Xlabel here\", fontsize=14)\n",
    "plt.ylabel(\"Ylabel here\", fontsize=14)\n",
    "plt.title(\"This is the title\", fontsize=14)"
   ]
  }
 ],
 "metadata": {
  "anaconda-cloud": {},
  "kernelspec": {
   "display_name": "Python 3",
   "language": "python",
   "name": "python3"
  },
  "language_info": {
   "codemirror_mode": {
    "name": "ipython",
    "version": 3
   },
   "file_extension": ".py",
   "mimetype": "text/x-python",
   "name": "python",
   "nbconvert_exporter": "python",
   "pygments_lexer": "ipython3",
   "version": "3.6.1"
  }
 },
 "nbformat": 4,
 "nbformat_minor": 1
}
