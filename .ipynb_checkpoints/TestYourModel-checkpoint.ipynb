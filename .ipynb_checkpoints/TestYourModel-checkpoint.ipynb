{
 "cells": [
  {
   "cell_type": "markdown",
   "metadata": {},
   "source": [
    "## Develop Your Pricer\n",
    "\n",
    "In this notebook we would like to give you some tips how you can develop and test your model. Let's assume you have created some model, how do you know it gives the right price? \n",
    "\n",
    "As we are calculating prices for European options under the Black Scholes assumptions we have a closed form solution we can compare to. You might ask yourself why then bother to price the option using numerical techniques such as binomial trees? Because in many cases we do not have a closed form solution but we can slightly adapt our binomial tree to calculate these cases. So testing our model against the analytical Black Scholes solution gives us confidence that we do not have a bug in our implementation.\n",
    "\n",
    "We are giving you the analytical Black Scholes model in the ```bs.py``` file."
   ]
  },
  {
   "cell_type": "code",
   "execution_count": 3,
   "metadata": {
    "collapsed": true
   },
   "outputs": [],
   "source": [
    "import bs\n",
    "import numpy as np\n",
    "import matplotlib.pyplot as plt\n",
    "%matplotlib inline"
   ]
  },
  {
   "cell_type": "markdown",
   "metadata": {},
   "source": [
    "## Where Do I Start?\n",
    "\n",
    "You can either program a Binomial or Trinomial Tree. The Binomial is probably simpler to get running. Remember the steps that you need to take when pricing in a tree? Here they are:\n",
    "\n",
    "1. Construct the final spot prices: either do this by bootstrapping from the initial spot price step by step or you can use our previous results to construct all final spot nodes. *Note that if your tree has N steps, in a binomial tree you will have N+1 final nodes*\n",
    "2. Now that you have the final spot values at the time of maturity, you can apply the payoff for the call option. Now you have the option prices at expiry.\n",
    "3. Go back through the tree step by step, combining the prices using the risk neutral probability. At the same time you should *not forget discounting*.\n",
    "\n",
    "Here are the formulae you need to construct a $N$-step tree consistent with the input parameters:\n",
    "\n",
    "<table width=400>\n",
    "  <th colspan=3> Binomial Tree Parameters </th>\n",
    "  <tr>\n",
    "    <td>$$\\Delta t$$</td>\n",
    "    <td>Time Step</td>\n",
    "    <td> $$ \\frac{\\tau}{N} $$ </td>\n",
    "  </tr>\n",
    "  <tr>\n",
    "    <td>$$u$$</td>\n",
    "    <td>Up Move</td>\n",
    "    <td> $$ e^{\\sigma\\sqrt{\\Delta t}} $$ </td>\n",
    "  </tr>\n",
    "  <tr>\n",
    "    <td>$$d$$</td>\n",
    "    <td>Down Move</td>\n",
    "    <td> $$ \\frac{1}{u} $$ </td>\n",
    "  </tr>\n",
    "  <tr>\n",
    "    <td>$$p$$</td>\n",
    "    <td>Probability of Up Move</td>\n",
    "    <td> $$ \\frac{ e^{+r\\Delta t} - d}{u-d} $$ </td>\n",
    "  </tr>\n",
    "    <tr>\n",
    "    <td>$$\\Phi(\\Delta t)$$</td>\n",
    "    <td>Single Step Discount Factor</td>\n",
    "    <td> $$ e^{-r\\Delta t} $$ </td>\n",
    "  </tr>\n",
    "</table>\n",
    "\n",
    "Your function should take the following arguments:\n",
    "\n",
    "    def team_9_pricer(spot, strike, tau, rate, vola, steps):\n",
    "        ....\n",
    "        \n",
    "Your frist step should be to compare your pricer to the analytical Black Scholes implementation:\n",
    "\n",
    "Once you have created your model it is time to check whether it works! With increasing number of steps you should see it converge to the price given by the analytical Black Scholes equation.\n",
    "\n",
    "I simulate this behaviour by using the analytical price and fake numerical noise by adding noise artificially. I fake convergence by decreasing the noise when the number of steps is increased. So this behaves roughly like a real numerical model."
   ]
  },
  {
   "cell_type": "code",
   "execution_count": 57,
   "metadata": {},
   "outputs": [
    {
     "name": "stdout",
     "output_type": "stream",
     "text": [
      "[ 0.    1.98  5.04]\n",
      "[0.66000000000000125, 3.0]\n",
      "[1.4400000000000008]\n"
     ]
    }
   ],
   "source": [
    "endReturns = lambda u, d, N, initial: [((u**k)*(d)**(N-k))*initial for k in range(0, N+1)]\n",
    "returns = endReturns(1.02,0.99,2,100)\n",
    "\n",
    "backwards = np.array([max(returns[i]-99, 0.) for i in range (0, 2+1)])\n",
    "\n",
    "print(backwards)\n",
    "final = lambda pstar, arr: [arr[0+i]*(1-pstar)+arr[1+i]*pstar for i in range(0, len(arr)-1)]\n",
    "p = (1-0.99)/(1.02-0.99)\n",
    "\n",
    "for i in range (0, 2):\n",
    "    backwards = final(p, backwards)\n",
    "    print (backwards)\n",
    "    "
   ]
  },
  {
   "cell_type": "code",
   "execution_count": 66,
   "metadata": {
    "collapsed": true
   },
   "outputs": [],
   "source": [
    "def shark(spot, strike, tau, rate, vola, steps):\n",
    "    \"\"\"Fake numerical model by using noise.\"\"\"\n",
    "    #ref = bs.bscall(spot, strike, tau, rate, vola)\n",
    "    \n",
    "    endReturns = lambda ul, dl, N, initial: [((ul**k)*(dl)**(N-k))*initial for k in range(0, N+1)]\n",
    "    final = lambda pstar, arr, r, t: [np.exp(-r*t)*(arr[0+i]*(1-pstar)+arr[1+i]*pstar) for i in range(0, len(arr)-1)]\n",
    "    \n",
    "    deltaT = tau/steps\n",
    "    u = np.exp(vola * np.sqrt(deltaT))\n",
    "    d = 1/u\n",
    "    p = (np.exp(rate * deltaT) - d)/(u-d)\n",
    "    discountFactor = np.exp(rate * deltaT)\n",
    "    \n",
    "    finalValue = endReturns(u,d,steps,spot)\n",
    "    pStar = (discountFactor-d)/(u-d)\n",
    "    \n",
    "    BackwardLast = np.array([max(finalValue[i]-strike, 0.) for i in range(0, steps+1)])\n",
    "    for i in range(0, steps):\n",
    "        BackwardLast = final(pStar, BackwardLast, rate, deltaT)\n",
    "        \n",
    "    return BackwardLast"
   ]
  },
  {
   "cell_type": "markdown",
   "metadata": {},
   "source": [
    "We run our game with a single option whose parameters are in the ```config.py``` file, so let's use that:"
   ]
  },
  {
   "cell_type": "code",
   "execution_count": 67,
   "metadata": {},
   "outputs": [
    {
     "data": {
      "text/plain": [
       "{'rate': 0.05, 'strike': 100, 'tau': 0.1, 'vola': 0.8}"
      ]
     },
     "execution_count": 67,
     "metadata": {},
     "output_type": "execute_result"
    }
   ],
   "source": [
    "from config import *\n",
    "OPTION"
   ]
  },
  {
   "cell_type": "markdown",
   "metadata": {},
   "source": [
    "We choose a spot value to test at and calculate the reference price using the Black Scholes analytical model. It might be interesting for you to test with different spot values. But stay close to the strike (which is called 'at the money') as that is the spot level at which we will run our game."
   ]
  },
  {
   "cell_type": "code",
   "execution_count": 68,
   "metadata": {},
   "outputs": [
    {
     "data": {
      "text/plain": [
       "7.7008453829509165"
      ]
     },
     "execution_count": 68,
     "metadata": {},
     "output_type": "execute_result"
    }
   ],
   "source": [
    "spot = 95.0\n",
    "ref = bs.bscall(spot, OPTION[\"strike\"], OPTION[\"tau\"], OPTION[\"rate\"], OPTION[\"vola\"])\n",
    "ref"
   ]
  },
  {
   "cell_type": "markdown",
   "metadata": {},
   "source": [
    "Lets look at how our model fares:"
   ]
  },
  {
   "cell_type": "code",
   "execution_count": 69,
   "metadata": {},
   "outputs": [
    {
     "data": {
      "text/plain": [
       "array([ 0.24026774])"
      ]
     },
     "execution_count": 69,
     "metadata": {},
     "output_type": "execute_result"
    }
   ],
   "source": [
    "ref - shark(spot, OPTION[\"strike\"], OPTION[\"tau\"], OPTION[\"rate\"], OPTION[\"vola\"], 10)"
   ]
  },
  {
   "cell_type": "markdown",
   "metadata": {},
   "source": [
    "Looks like a large error (unless you are lucky with the random numbers....). So what we want to see is that we at least converge to the right value as we increase the number of steps. So let's do that!"
   ]
  },
  {
   "cell_type": "code",
   "execution_count": 72,
   "metadata": {
    "collapsed": true
   },
   "outputs": [],
   "source": [
    "steps = range(10, 500, 10)\n",
    "prices = [shark(spot, OPTION[\"strike\"], OPTION[\"tau\"], OPTION[\"rate\"], OPTION[\"vola\"], n) for n in steps ]"
   ]
  },
  {
   "cell_type": "markdown",
   "metadata": {},
   "source": [
    "We can now plot the error against our reference price against the number of steps. What we hope to see here that we converge to the reference value."
   ]
  },
  {
   "cell_type": "code",
   "execution_count": 73,
   "metadata": {},
   "outputs": [
    {
     "data": {
      "text/plain": [
       "[<matplotlib.lines.Line2D at 0x2cbe78c3cc0>]"
      ]
     },
     "execution_count": 73,
     "metadata": {},
     "output_type": "execute_result"
    },
    {
     "data": {
      "image/png": "[encoded data removed]",
      "text/plain": [
       "<matplotlib.figure.Figure at 0x2cbe78c3da0>"
      ]
     },
     "metadata": {},
     "output_type": "display_data"
    }
   ],
   "source": [
    "plt.grid()\n",
    "plt.plot(steps, prices-ref)"
   ]
  },
  {
   "cell_type": "markdown",
   "metadata": {
    "collapsed": true
   },
   "source": [
    "The above plot should show you convergence of the error to zero. That is what you should aim for using your own model!\n",
    "\n",
    "If you do not get the right result, try to reproduce the two step tree from the script or try running the pricer with the rate set to zero. "
   ]
  },
  {
   "cell_type": "markdown",
   "metadata": {},
   "source": [
    "## Fixing the Number of Steps\n",
    "\n",
    "Your model takes all the input parameters and the number of steps to run, but four your model to participate in our\n",
    "game, you need to fix the number of steps. Your model needs to have the following signature:\n",
    "\n",
    "    def pricefunction(spot, strike, tau, rate, vola)\n",
    "\n",
    "We can fix the number of steps and return a function with this signature using the 'partial' function:\n",
    "\n",
    "    shark10 = partial(shark, 10)\n",
    "    shark100 = partial(shark, 100)"
   ]
  },
  {
   "cell_type": "code",
   "execution_count": 75,
   "metadata": {
    "collapsed": true
   },
   "outputs": [],
   "source": [
    "from tradgame import *\n",
    "shark30 = partial(shark, 30)\n",
    "shark100 = partial(shark, 100)"
   ]
  },
  {
   "cell_type": "markdown",
   "metadata": {},
   "source": [
    "## Run Unit Tests\n",
    "\n",
    "We have given you a few unit tests that you should try to make sure that your model is returning a correct price.\n",
    "These tests can give you a hint on what is going wrong.\n",
    "\n",
    "'RunTests' takes a pricing function and runs several unit tests. If any of these fails you will see a message and the function will return false. If all tests pass it will return true.\n",
    "\n",
    "Note that you should still compare your model to the analytical solution of Black Scholes as the unit tests only test some limiting cases."
   ]
  },
  {
   "cell_type": "code",
   "execution_count": 74,
   "metadata": {},
   "outputs": [
    {
     "data": {
      "text/plain": [
       "True"
      ]
     },
     "execution_count": 74,
     "metadata": {},
     "output_type": "execute_result"
    }
   ],
   "source": [
    "from UnitTest import RunTests\n",
    "RunTests(bs.bscall) # this obviously passes, try it with RunTests(shark30) to see it fail"
   ]
  },
  {
   "cell_type": "markdown",
   "metadata": {
    "collapsed": true
   },
   "source": [
    "## How Many Steps Do I Need?\n",
    "\n",
    "Once you have convinced yourself that your model returns the correct price, it is time to tune it for maximal performance: you want to get your prices good enough to stay mid-market but fast enough to react to spot update.\n",
    "\n",
    "You can run our game locally with your model and try out how many steps are necessary. Our game takes function with the following signature (input parameters)\n",
    "\n",
    "    def pricefunction(spot, strike, tau, rate, vola)\n",
    "    \n",
    "We can fix the number of steps and return a function with this signature using the 'partial' function:\n",
    "\n",
    "    shark10 = partial(shark, 10)\n",
    "    shark100 = partial(shark, 100)\n",
    "\n",
    "Now we can run these models against each other (just compare 2-3 models to limit the load)."
   ]
  },
  {
   "cell_type": "code",
   "execution_count": 12,
   "metadata": {},
   "outputs": [
    {
     "name": "stdout",
     "output_type": "stream",
     "text": [
      "Fini. Recorded 200 events.\n"
     ]
    },
    {
     "name": "stderr",
     "output_type": "stream",
     "text": [
      "C:\\ProgramData\\Anaconda3\\lib\\site-packages\\numpy\\core\\fromnumeric.py:2889: RuntimeWarning: Mean of empty slice.\n",
      "  out=out, **kwargs)\n",
      "C:\\ProgramData\\Anaconda3\\lib\\site-packages\\numpy\\core\\_methods.py:80: RuntimeWarning: invalid value encountered in double_scalars\n",
      "  ret = ret.dtype.type(ret / rcount)\n"
     ]
    },
    {
     "data": {
      "text/html": [
       "<div>\n",
       "<style>\n",
       "    .dataframe thead tr:only-child th {\n",
       "        text-align: right;\n",
       "    }\n",
       "\n",
       "    .dataframe thead th {\n",
       "        text-align: left;\n",
       "    }\n",
       "\n",
       "    .dataframe tbody tr th {\n",
       "        vertical-align: top;\n",
       "    }\n",
       "</style>\n",
       "<table border=\"1\" class=\"dataframe\">\n",
       "  <thead>\n",
       "    <tr style=\"text-align: right;\">\n",
       "      <th></th>\n",
       "      <th>Crossing</th>\n",
       "      <th>Delays</th>\n",
       "      <th>MidMarketness</th>\n",
       "      <th>Name</th>\n",
       "      <th>PnL</th>\n",
       "    </tr>\n",
       "  </thead>\n",
       "  <tbody>\n",
       "    <tr>\n",
       "      <th>1</th>\n",
       "      <td>200</td>\n",
       "      <td>NaN</td>\n",
       "      <td>0.0</td>\n",
       "      <td>shark:30</td>\n",
       "      <td>-100000</td>\n",
       "    </tr>\n",
       "    <tr>\n",
       "      <th>2</th>\n",
       "      <td>200</td>\n",
       "      <td>NaN</td>\n",
       "      <td>0.0</td>\n",
       "      <td>shark:100</td>\n",
       "      <td>-100000</td>\n",
       "    </tr>\n",
       "  </tbody>\n",
       "</table>\n",
       "</div>"
      ],
      "text/plain": [
       "   Crossing  Delays  MidMarketness       Name     PnL\n",
       "1       200     NaN            0.0   shark:30 -100000\n",
       "2       200     NaN            0.0  shark:100 -100000"
      ]
     },
     "execution_count": 12,
     "metadata": {},
     "output_type": "execute_result"
    }
   ],
   "source": [
    "gameParameters = {\"seed\" : 932748239, \"quotewidth\" : 0.3, \"delay\" : 0.1, \"steps\" : 200}\n",
    "game = TradingGame(gameParameters)\n",
    "game.run([shark30, shark100])\n",
    "game.ranking()"
   ]
  },
  {
   "cell_type": "markdown",
   "metadata": {},
   "source": [
    "The above table, produced by\n",
    "\n",
    "    game.ranking()\n",
    "\n",
    "and contains the following information:\n",
    "* Crossing: how many times the model returned a price which was outside the quotes, i.e. smaller than the bid or larger than the ask. This is really bad as you can be arbitraged very easily.\n",
    "* MidMarketness: if you are within the bid/ask spread, how close were you on average to the mid-market value\n",
    "* Delays: how long did it take you on average to respond to a spot update\n",
    "\n",
    "You can plot how the market moved and your models prices using\n",
    "\n",
    "    EventPlot(game).plot()\n",
    "    \n"
   ]
  },
  {
   "cell_type": "code",
   "execution_count": null,
   "metadata": {
    "collapsed": true
   },
   "outputs": [],
   "source": [
    "EventPlot(game).plot()"
   ]
  },
  {
   "cell_type": "markdown",
   "metadata": {},
   "source": [
    "If you want to dig really deep, you can look at all the events the market received by using\n",
    "\n",
    "    game.getEvents()\n",
    "    \n",
    "This shows you the each spot/quote update and when your pricer reacted to it and with which price."
   ]
  },
  {
   "cell_type": "markdown",
   "metadata": {
    "collapsed": true
   },
   "source": [
    "## Timing Your Model\n",
    "\n",
    "It is not only the number of steps which determines the time that it takes for your model to calculate a price. It is also the way you programmed it. Maybe you want to try out different strategies, but how can you tell which one is faster? Fortunately ipython has a tool for this:"
   ]
  },
  {
   "cell_type": "code",
   "execution_count": null,
   "metadata": {
    "collapsed": true
   },
   "outputs": [],
   "source": [
    "%time shark(spot, OPTION[\"strike\"], OPTION[\"tau\"], OPTION[\"rate\"], OPTION[\"vola\"], 100)"
   ]
  },
  {
   "cell_type": "markdown",
   "metadata": {},
   "source": [
    "## How Do I Submit My Pricer\n",
    "\n",
    "Once you have a working pricer, think you have the best balance between accuracy and performance and the time is up, you have to submit the pricer so that it can part in the competition.\n",
    "\n",
    "For that I would ask you to copy your pricer to a file called **team_xx.py** with xx being your team number.\n",
    "This file should look something like this:\n",
    "\n",
    "    def team_xx_pricer(spot, strike, tau, rate, vola, steps):\n",
    "         ...\n",
    "         \n",
    "    pricer = partial(team_xx_pricer, <best_number_of_steps>)\n",
    "    \n",
    "    "
   ]
  }
 ],
 "metadata": {
  "anaconda-cloud": {},
  "kernelspec": {
   "display_name": "Python 3",
   "language": "python",
   "name": "python3"
  },
  "language_info": {
   "codemirror_mode": {
    "name": "ipython",
    "version": 3
   },
   "file_extension": ".py",
   "mimetype": "text/x-python",
   "name": "python",
   "nbconvert_exporter": "python",
   "pygments_lexer": "ipython3",
   "version": "3.6.1"
  }
 },
 "nbformat": 4,
 "nbformat_minor": 1
}
