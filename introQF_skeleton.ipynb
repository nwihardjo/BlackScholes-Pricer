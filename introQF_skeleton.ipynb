{
 "cells": [
  {
   "cell_type": "markdown",
   "metadata": {},
   "source": [
    "## Before starting\n",
    "\n",
    "Remember that the Jupyter notebook offers lots of tools to help you:\n",
    "\n",
    "* use `?command` to get the documentation about a command for example `?plt.plot` \n",
    "* use TAB-completion\n",
    "* use ESC+A or ESC+B to add a cell before or after the current one\n",
    "* execute a cell with SHIFT+ENTER or CTRL+ENTER\n",
    "* use ESC+D+D to delete a cell"
   ]
  },
  {
   "cell_type": "markdown",
   "metadata": {},
   "source": [
    "# Loading the libraries\n",
    "\n",
    "Start by loading the libraries needed. `__future__` is a way to have compatibility with Python 3 code (see also the Python warmup notebook). `introQF_library` loads the necessary libraries (`numpy`,`scipy`,`matplotlib`,..) and basic tools needed for this course, have a look later if you are interested."
   ]
  },
  {
   "cell_type": "code",
   "execution_count": 2,
   "metadata": {},
   "outputs": [],
   "source": [
    "from __future__ import division, print_function\n",
    "from introQF_library import *\n",
    "\n",
    "%matplotlib inline"
   ]
  },
  {
   "cell_type": "markdown",
   "metadata": {},
   "source": [
    "In a standard fashion, the `numpy` module can now be called with `np.` and `scipy` with `sc.`"
   ]
  },
  {
   "cell_type": "markdown",
   "metadata": {},
   "source": [
    "## Plotting reference\n",
    "\n",
    "In the course, you will have to display a number of things. \n",
    "\n",
    "If you get stuck, remember to look at the content where more examples are available, written in full.\n",
    "\n",
    "### Plotting curves\n",
    "\n",
    "Let's plot $y=\\sin(x)x^2$ from 0 to 3 and $y=\\sin(x^2)x$ for the same range of values. "
   ]
  },
  {
   "cell_type": "code",
   "execution_count": 0,
   "metadata": {
    "collapsed": true
   },
   "outputs": [],
   "source": [
    "# create a range of 100 values between 0 and 3\n",
    "x  = np.linspace(0,3,100)\n",
    "y1 = np.sin(x)*(x**2)\n",
    "y2 = np.sin(x**2)*x\n",
    "\n",
    "plt.plot(x, y1)\n",
    "plt.plot(x, y2)"
   ]
  },
  {
   "cell_type": "markdown",
   "metadata": {},
   "source": [
    "### Plotting histograms\n",
    "\n",
    "For histograms, we recommend using `distplot` from `seaborn`. By default, it adds a kernel-density estimator of the probability distribution function to the histogram. If you don't want it, set `kde=False`. Also, set the option `norm_hist=True` so that it corresponds to a normalised histogram. "
   ]
  },
  {
   "cell_type": "code",
   "execution_count": 14,
   "metadata": {},
   "outputs": [
    {
     "data": {
      "text/plain": [
       "<matplotlib.axes._subplots.AxesSubplot at 0x1f0d6c617f0>"
      ]
     },
     "execution_count": 14,
     "metadata": {},
     "output_type": "execute_result"
    },
    {
     "data": {
      "image/png": "[encoded data removed]",
      "text/plain": [
       "<matplotlib.figure.Figure at 0x1f0d6b8cb38>"
      ]
     },
     "metadata": {},
     "output_type": "display_data"
    }
   ],
   "source": [
    "# draw values from a random normal\n",
    "values = np.random.randn(500)\n",
    "\n",
    "sns.distplot(values, norm_hist=True,)"
   ]
  },
  {
   "cell_type": "markdown",
   "metadata": {},
   "source": [
    "# Crash Course in Probability"
   ]
  },
  {
   "cell_type": "markdown",
   "metadata": {},
   "source": [
    "In the presence of a discrete set of possible outcomes and gains, computing the expected gains is easy with the `dot` function from `numpy` which takes the elementwise product of two vectors and sums those. Use it to show the expected gains in the case presented below for two consecutive coinflips and a reward depending on the outcome:"
   ]
  },
  {
   "cell_type": "code",
   "execution_count": 0,
   "metadata": {
    "collapsed": true
   },
   "outputs": [],
   "source": [
    "#outcomes:       {HH    HT    TH    TT  }\n",
    "probs = np.array([1./4, 1./4, 1./4, 1./4])\n",
    "gains = np.array([10  , 5   , 5   , 0   ])\n",
    "\n",
    "# Add your code here to display the expected gains ... \n"
   ]
  },
  {
   "cell_type": "markdown",
   "metadata": {},
   "source": [
    "# Introduction\n",
    "## Motivation"
   ]
  },
  {
   "cell_type": "markdown",
   "metadata": {},
   "source": [
    "You can use the function `getPrices` below to retrieve dates and quotes from standard financial symbols. Note that this is a simple hack, more refined functions exist, for example \n",
    "`quote_historical_yahoo_ochl` from `matplotlib.finance`. In general the problem of retrieving good quality financial data is difficult all by itself depending on the granularity desired (here it's pretty crude and hence not hard to find the data).\n",
    "\n",
    "You should try other symbols! from here: http://www.eoddata.com/symbols.aspx\n",
    "\n",
    "The period was chosen arbitrarily to surround the 2008 crisis which you will see. Change it as you see fit!\n",
    "\n",
    "**Notes**: the dates are converted using `matplotlib.dates` which is why if you look at the dates, you'll see a bunch of numbers. However, these can be interpreted by the `plot_date` function used later.\n",
    "\n",
    "**NOTE (Nov 3, 2017)**: _Yahoo Finance just closed its API so the function actually does not work anymore. You can still load the CSV files corresponding to `AAPL`, `GOOG` and `AMZN` that are available for download on the public repository but if you try other symbols, you will just get an empty list._"
   ]
  },
  {
   "cell_type": "code",
   "execution_count": 4,
   "metadata": {
    "collapsed": true
   },
   "outputs": [],
   "source": [
    "aapl_d, aapl = getPrices('AAPL', 2005, 2013) \n",
    "goog_d, goog = getPrices('GOOG', 2005, 2013)"
   ]
  },
  {
   "cell_type": "markdown",
   "metadata": {},
   "source": [
    "We can now display the quotes vs dates for both symbols (and by extension for any symbol you may have tried to retrieve).\n",
    "\n",
    "Display the evolution of the prices of your symbols using `plot_date`. "
   ]
  },
  {
   "cell_type": "code",
   "execution_count": 13,
   "metadata": {},
   "outputs": [
    {
     "data": {
      "text/plain": [
       "[<matplotlib.lines.Line2D at 0x1f0d6ce9438>]"
      ]
     },
     "execution_count": 13,
     "metadata": {},
     "output_type": "execute_result"
    },
    {
     "data": {
      "image/png": "[encoded data removed]",
      "text/plain": [
       "<matplotlib.figure.Figure at 0x1f0d6ce9470>"
      ]
     },
     "metadata": {},
     "output_type": "display_data"
    }
   ],
   "source": [
    "# Add here your code to generate the lines for the different symbols...\n",
    "plt.plot_date(aapl_d, aapl)\n",
    "plt.plot_date(goog_d,goog)\n"
   ]
  },
  {
   "cell_type": "markdown",
   "metadata": {},
   "source": [
    "\n",
    "# Observing prices\n",
    "## The log-returns\n",
    "\n",
    "We will focus on studying and analyzing the **log-returns** which are defined as\n",
    "\n",
    "$\\log r_i = \\log {S_i\\over S_{i-1}}$\n",
    "\n",
    "i.e., the logarithm of subsequent prices. Compute the log-returns for your symbols and display them. To compute the logarithms of entries of an `np.array`, you can use `np.log`, also note that `vec1/vec2` returns an elementwise division of `vec1` by `vec2` provided the two vectors have the same length."
   ]
  },
  {
   "cell_type": "code",
   "execution_count": 43,
   "metadata": {},
   "outputs": [
    {
     "data": {
      "text/plain": [
       "[<matplotlib.lines.Line2D at 0x1f0d7508d68>]"
      ]
     },
     "execution_count": 43,
     "metadata": {},
     "output_type": "execute_result"
    },
    {
     "data": {
      "image/png": "[encoded data removed]",
      "text/plain": [
       "<matplotlib.figure.Figure at 0x1f0d74de940>"
      ]
     },
     "metadata": {},
     "output_type": "display_data"
    }
   ],
   "source": [
    "# Add your code here to compute the log-returns ...\n",
    "aapl_r = np.log(aapl[1:]/aapl[:-1])\n",
    "goog_r = np.log(goog[1:]/goog[:-1])\n",
    "# And here your code to display them, note that the range of dates should be\n",
    "# decreased by 1 since we are taking subsequent ratios...\n",
    "\n",
    "plt.plot_date(aapl_d[1:],aapl_r)\n",
    "plt.plot_date(goog_d[1:],goog_r)\n"
   ]
  },
  {
   "cell_type": "markdown",
   "metadata": {},
   "source": [
    "If we model the log-returns as a random process, then you have just plotted a *realisation* of this random process. It is somewhat more informative to consider the histograms corresponding to those. \n",
    "\n",
    "Use `distplot` from `seaborn` to display them (set `kde=False` and `norm_hist=True`). If you want to display them side by side, use `plt.subplot`. "
   ]
  },
  {
   "cell_type": "code",
   "execution_count": 48,
   "metadata": {},
   "outputs": [
    {
     "data": {
      "text/plain": [
       "<matplotlib.axes._subplots.AxesSubplot at 0x1f0d8c87f98>"
      ]
     },
     "execution_count": 48,
     "metadata": {},
     "output_type": "execute_result"
    },
    {
     "data": {
      "image/png": "[encoded data removed]",
      "text/plain": [
       "<matplotlib.figure.Figure at 0x1f0d7a95710>"
      ]
     },
     "metadata": {},
     "output_type": "display_data"
    }
   ],
   "source": [
    "# Add your code here to generate the histograms...\n",
    "plt.subplot(2,2,1)\n",
    "sns.distplot(aapl_r, kde = False, norm_hist=True)\n",
    "\n",
    "plt.subplot(2,2,2)\n",
    "sns.distplot(goog_r, kde = False, norm_hist=True)"
   ]
  },
  {
   "cell_type": "markdown",
   "metadata": {},
   "source": [
    "## Fitting a normal distribution\n",
    "\n",
    "Those histogrammes may remind you of normal distributions, to check this, we can *fit* normal distributions to each of those histograms. \n",
    "For this, you will want to use\n",
    "\n",
    "* `np.linspace` to build an `np.array` consisting of equally spaced entries between two points (x-values of your normal distributions)\n",
    "* `norm.fit` which returns the mean and standard deviation of the best fitting normal to a series of values (the log-returns in your case)\n",
    "* `norm.pdf` which computes the pdf of a parametrised normal at given values\n",
    "\n",
    "Display the lines on top of the histogrammes, what can you observe?\n",
    "\n",
    "**Note** don't forget `norm_hist=True`"
   ]
  },
  {
   "cell_type": "code",
   "execution_count": 49,
   "metadata": {},
   "outputs": [
    {
     "data": {
      "text/plain": [
       "<function numpy.core.function_base.linspace>"
      ]
     },
     "execution_count": 49,
     "metadata": {},
     "output_type": "execute_result"
    }
   ],
   "source": [
    "# Add your code here to fit normals to the log-returns and display them.\n",
    "np.linspace(aapl_r)\n"
   ]
  },
  {
   "cell_type": "markdown",
   "metadata": {},
   "source": [
    "## (Bonus): Fitting a Student-t distribution\n",
    "\n",
    "The normal distribution fit is alright but not fantastic. You could try fitting another distribution such as the *Student-t* using `t.fit` and `t.pdf` and the same procedure as before."
   ]
  },
  {
   "cell_type": "code",
   "execution_count": 0,
   "metadata": {
    "collapsed": true
   },
   "outputs": [],
   "source": [
    "# Add your code here to fit and display a Student-t distribution \n"
   ]
  },
  {
   "cell_type": "markdown",
   "metadata": {},
   "source": [
    "## Log-returns with different lags\n",
    "\n",
    "So far you have looked at log-returns over subsequent prices but the notion of \"subsequent\" is flexible. You may want to look at log-returns over several quotes and study the evolution of the model in those conditions.\n",
    "\n",
    "We give you an inline function which can compute the lagged log-returns for a series of prices. Can you use it to display the corresponding histogrammes for a lag of - say - 5?\n",
    "\n",
    "**Note**: if you see a warning box, you can safely ignore it. "
   ]
  },
  {
   "cell_type": "code",
   "execution_count": 59,
   "metadata": {},
   "outputs": [
    {
     "data": {
      "text/plain": [
       "<matplotlib.axes._subplots.AxesSubplot at 0x1f0d939b128>"
      ]
     },
     "execution_count": 59,
     "metadata": {},
     "output_type": "execute_result"
    },
    {
     "data": {
      "image/png": "[encoded data removed]",
      "text/plain": [
       "<matplotlib.figure.Figure at 0x1f0d95b9f28>"
      ]
     },
     "metadata": {},
     "output_type": "display_data"
    }
   ],
   "source": [
    "# inline function to compute the lagged-log returns for an arbitrary lag\n",
    "llr = lambda prices, lag: np.log(prices[range(0+lag,len(prices),    lag)] / \n",
    "                                 prices[range(0,    len(prices)-lag,lag)])\n",
    "\n",
    "# Add your code here to compute the lagged log-returns for a lag of 5\n",
    "aapl_r5 = llr(aapl,5)\n",
    "goog_r5 = llr(goog,5)\n",
    "\n",
    "# Add your code here to create the histograms\n",
    "x = np.linspace (-.15,15,500)\n",
    "\n",
    "plt.subplot(1,2,1)\n",
    "sns.distplot(aapl_r5,kde = False, norm_hist = True)\n",
    "plt.subplot(1,2,2)\n",
    "sns.distplot(goog_r5, kde = False, norm_hist = True)\n",
    "\n",
    "# Add your code here to fit normal distributions\n",
    "aapl_mean, aapl_sd = norm.fit(aapl_r5)\n",
    "plt.subplot(1,2,1)\n",
    "plt.plot(x,norm.pdf(x,aapl_mean, aapl_sd))\n",
    "\n",
    "plt.subplot(1,2,2)\n",
    "goog_mean, goog_sd = norm.fit(goog_r5)\n",
    "plt.plot(x,norm.pdf(x, goog_mean, goog_sd))"
   ]
  },
  {
   "cell_type": "markdown",
   "metadata": {},
   "source": [
    "## Evolution of the mean and variance of the lagged log-returns\n",
    "\n",
    "Looking at those log-returns, you should have a feel for their dependence to the lag noting that, when the lag increases, the *horizontal spread increases*.\n",
    "\n",
    "This is an important element which you should explore further. Let us compute the lagged log-returns for a number of lags and see how the mean and variance evolve. "
   ]
  },
  {
   "cell_type": "code",
   "execution_count": 0,
   "metadata": {
    "collapsed": true
   },
   "outputs": [],
   "source": [
    "lags = np.array([1, 3, 5, 7, 10, 15, 20])\n",
    "# Add your code here to compute the mean,standard deviation of the log returns\n",
    "# corresponding to those lags\n",
    "# Add your code here to display the evolution of the mean...\n",
    "\n",
    "# Add your code here to display the evolution of the variance\n",
    "# (squared standard deviation)\n"
   ]
  },
  {
   "cell_type": "markdown",
   "metadata": {},
   "source": [
    "# Pricing Theory\n",
    "## Not using the risk-neutral price leads to an arbitrage opportunity\n",
    "\n",
    "In this bonus, you can show that in the case of the two games based on coin flips, if the price of the second game is not £12.3, then there is an arbitrage.\n",
    "\n",
    "For this, show the boundary curves for \n",
    "\n",
    "$$ a_1 = {7\\over P-6} $$\n",
    "\n",
    "and\n",
    "\n",
    "$$ a_2 = {-3\\over P-15}$$\n",
    "\n",
    "for a range of prices around £12.3. \n",
    "\n",
    "What do you observe?"
   ]
  },
  {
   "cell_type": "code",
   "execution_count": 0,
   "metadata": {
    "collapsed": true
   },
   "outputs": [],
   "source": [
    "# Add your code here to display the two boundary curves\n",
    "# if you can, fill the area of possible trade points and discuss\n",
    "\n"
   ]
  },
  {
   "cell_type": "markdown",
   "metadata": {},
   "source": [
    "# Derivatives\n",
    "## Payoff curves for derivatives\n",
    "\n",
    "To obtain the payoff curve of a call or put, you may need to use the `np.maximum` function which returns the elementwise maximum of two arrays but can also be used as \n",
    "\n",
    "```python\n",
    "np.maximum(array1, 0.0)\n",
    "```\n",
    "\n",
    "which will return an array of the size of array1 with all negative entries set to `0.0`."
   ]
  },
  {
   "cell_type": "code",
   "execution_count": 0,
   "metadata": {
    "collapsed": true
   },
   "outputs": [],
   "source": [
    "K = 100 # Strike Price\n",
    "S = np.linspace(90,110,100)\n",
    "# Add your code here to compute the payoff of the call and put\n",
    "\n",
    "# Add your code here to compute the payoff of the straddle\n",
    "\n",
    "# Add your code here to display the straddle\n",
    "# (and the call and the put if you want)\n"
   ]
  },
  {
   "cell_type": "markdown",
   "metadata": {},
   "source": [
    "# Analytic\n",
    "## Black-Scholes formula\n",
    "\n",
    "The Black-Scholes formula for the price of a call reads\n",
    "\n",
    "$$ V^\\text{call}_t = S_t \\Phi(d_1) - K \\exp(-r\\tau) \\Phi(d_2)$$\n",
    "\n",
    "where\n",
    "\n",
    "$$ d_{1,2} = {\\log(S_t/K) + (r\\pm \\sigma^2/2)\\tau \\over \\sigma \\sqrt{\\tau}}$$\n",
    "\n",
    "using the functions `np.log`, `np.exp`, `np.sqrt`, `norm.cdf` (for $\\Phi$) and either `**` or `np.power`, write a function `callPriceBS` taking as arguments `St,K,tau,r,v` and returning the price of the call."
   ]
  },
  {
   "cell_type": "code",
   "execution_count": 61,
   "metadata": {
    "collapsed": true
   },
   "outputs": [],
   "source": [
    "def callPriceBS(St, K, tau, r, v):\n",
    "# Add your code here...\n",
    "    d1 = (np.log(St/K)+tau*(r+(v**2)/2))/(v*np.sqrt(tau))\n",
    "    d2 = (np.log(St/K)+tau*(r-(v**2)/2))/(v*np.sqrt(tau))\n",
    "    \n",
    "    return St*norm.cdf(d1)-K*np.exp(-r*tau)*norm.cdf(d2)\n",
    "    "
   ]
  },
  {
   "cell_type": "markdown",
   "metadata": {},
   "source": [
    "Test that your code works, the following line should return approximately `17.4`."
   ]
  },
  {
   "cell_type": "code",
   "execution_count": 62,
   "metadata": {},
   "outputs": [
    {
     "name": "stdout",
     "output_type": "stream",
     "text": [
      "17.4542\n"
     ]
    }
   ],
   "source": [
    "print(\"{0:.4f}\".format(callPriceBS(105, 100, 2, 0.05, 0.15)))"
   ]
  },
  {
   "cell_type": "markdown",
   "metadata": {},
   "source": [
    "# (Bonus) Computing the greeks\n",
    "\n",
    "Below we show how one can compute the Delta both analytically and numerically."
   ]
  },
  {
   "cell_type": "code",
   "execution_count": 0,
   "metadata": {
    "collapsed": true
   },
   "outputs": [],
   "source": [
    "def callDeltaBS(St, K, tau, r, v):\n",
    "    d1 = ( (np.log(St/K)) + (r+np.power(v, 2)/2)*tau ) / (v*np.sqrt(tau))\n",
    "    return norm.cdf(d1)\n",
    "\n",
    "def callDeltaNumerical(St, K, tau, r, v): \n",
    "    deltaS = St/1000\n",
    "    Vplus  = callPriceBS(St+deltaS, K, tau, r, v)\n",
    "    V      = callPriceBS(St, K, tau, r, v)\n",
    "    return (Vplus-V)/deltaS"
   ]
  },
  {
   "cell_type": "markdown",
   "metadata": {},
   "source": [
    "You can test the differences and see that the numerical approximation is perfectly acceptable"
   ]
  },
  {
   "cell_type": "code",
   "execution_count": 0,
   "metadata": {
    "collapsed": true
   },
   "outputs": [],
   "source": [
    "dAnalytical = callDeltaBS(60, 75, 2, 0.05, 0.1)\n",
    "dNumerical  = callDeltaNumerical(60, 75, 2, 0.05, 0.1)\n",
    "pctDiff     = np.abs(dAnalytical-dNumerical)/dAnalytical*100\n",
    "\n",
    "print(\"Delta (Analytical): {0:.5f}\".format(dAnalytical))\n",
    "print(\"Delta (Numerical) : {0:.5f}\".format(dNumerical))\n",
    "print(\"Percentage diff   : {0:.1f}\".format(pctDiff))"
   ]
  },
  {
   "cell_type": "markdown",
   "metadata": {},
   "source": [
    "Let's plot the evolution of the Delta as a function of the price of the underlying when\n",
    "\n",
    "* $K=75$\n",
    "* $\\tau = 2$\n",
    "* $r=0.05$\n",
    "* $v=0.1$\n",
    "\n",
    "And when the price of the underlying varies from $40$ to $105$ (use the `np.linspace` function).\n"
   ]
  },
  {
   "cell_type": "code",
   "execution_count": 0,
   "metadata": {
    "collapsed": true
   },
   "outputs": [],
   "source": [
    "# Add your code here\n"
   ]
  },
  {
   "cell_type": "markdown",
   "metadata": {},
   "source": [
    "Can you do the same with the Vega, Theta, ..."
   ]
  },
  {
   "cell_type": "code",
   "execution_count": 0,
   "metadata": {
    "collapsed": true
   },
   "outputs": [],
   "source": [
    "# Add your code here to compute the Vega\n"
   ]
  },
  {
   "cell_type": "code",
   "execution_count": 0,
   "metadata": {
    "collapsed": true
   },
   "outputs": [],
   "source": [
    "# Add your code here to display the Vega\n"
   ]
  },
  {
   "cell_type": "code",
   "execution_count": 0,
   "metadata": {
    "collapsed": true
   },
   "outputs": [],
   "source": [
    "# Add your code here to compute the Theta\n"
   ]
  },
  {
   "cell_type": "code",
   "execution_count": 0,
   "metadata": {
    "collapsed": true
   },
   "outputs": [],
   "source": [
    "# Add your code here to display the Theta\n"
   ]
  },
  {
   "cell_type": "markdown",
   "metadata": {},
   "source": [
    "# The Volatility smile\n",
    "\n",
    "The file `aapl_smile.csv` contains \n",
    "\n",
    "* Bid and Ask for calls over a range of possible strikes\n",
    "* The corresponding implied volatilities\n",
    "\n",
    "Open it using \n",
    "```python\n",
    "data = read_csv(\"aapl_smile.csv\")\n",
    "```\n",
    "\n",
    "the elements can be read with\n",
    "\n",
    "* `data.STRIKE`\n",
    "* `data.CBID`, `data.CASK` (call bid & ask)\n",
    "* `data.PBID`, `data.PASK` (put bid and ask)\n",
    "* `data.CBIDIV`, `data.CASKIV` (implied vol for the call)\n",
    "* `data.PBIDIV`, `data.PASKIV` (implied vol for the put)\n",
    "\n",
    "Plot all of this with respect to the strike (keep the implied vol on another graph). What can you observe?\n"
   ]
  },
  {
   "cell_type": "code",
   "execution_count": 0,
   "metadata": {
    "collapsed": true,
    "scrolled": false
   },
   "outputs": [],
   "source": [
    "# Read the data, plot the put,call bid and ask.\n",
    "\n"
   ]
  },
  {
   "cell_type": "code",
   "execution_count": 0,
   "metadata": {
    "collapsed": true,
    "scrolled": false
   },
   "outputs": [],
   "source": [
    "# Plot the put,call bid and ask implied vol\n",
    "\n"
   ]
  },
  {
   "cell_type": "markdown",
   "metadata": {},
   "source": [
    "# The binomial tree\n",
    "\n",
    "Compute the number of paths leading to each node of the last layer of an N-step binomial tree, use `comb` to compute\n",
    "\n",
    "$$ {N!\\over k!(N-k)!} $$\n",
    "\n",
    "if $N=4$, you should get `[1.0, 4.0, 6.0, 4.0, 1.0]`\n"
   ]
  },
  {
   "cell_type": "code",
   "execution_count": 64,
   "metadata": {},
   "outputs": [
    {
     "data": {
      "text/plain": [
       "[1.0, 5.0, 10.0, 10.0, 5.0, 1.0]"
      ]
     },
     "execution_count": 64,
     "metadata": {},
     "output_type": "execute_result"
    }
   ],
   "source": [
    "#note: there are N+1 final nodes when considering N steps\n",
    "#add cour code here...\n",
    "nPaths = lambda N: [comb(N,k) for k in range(0, N+1)]\n",
    "nPaths(5)    "
   ]
  },
  {
   "cell_type": "markdown",
   "metadata": {},
   "source": [
    "## Observing the convergence to a LogNormal distribution\n",
    "\n",
    "1. following the previous code, write functions returning the end probabilities and the end returns\n",
    "2. display the probabilities associated with the returns, does the shape look familiar?"
   ]
  },
  {
   "cell_type": "code",
   "execution_count": 0,
   "metadata": {
    "collapsed": true
   },
   "outputs": [],
   "source": [
    "# Add your code for functions returning the probabilities & returns \n",
    "def probability(p, N):\n",
    "    return [comb(N,k)*(p**k)*((1-p)**N-k) for k in range (0, N+1)]\n",
    "\n",
    "def price(d, u, N):\n",
    "    return [comb(N,k)*u**k*d**(N-k) for k in range (0, N+1)]\n",
    "# corresponding to the last layer\n",
    "# enter some arbitrary values\n",
    "p = 0.6  # probability of going up\n",
    "u = 1.03 # multiplicative \"up factor\"\n",
    "d = 0.99 # multiplicative \"down factor\"\n",
    "\n",
    "# number of steps (play with this number)\n",
    "N = 100\n",
    "# Add your code here to compute the returns/probabilities using your functions...\n",
    "# Add your code here to  display probabilities vs returns\n"
   ]
  },
  {
   "cell_type": "markdown",
   "metadata": {},
   "source": [
    "Provided you have done the previous step successfully and defined a vector `returns` and `probas`, the following cell should show you how well the log-returns match a normal distribution. Don't pay attention too much to the re-scaling which is there to compare everything on a single scale."
   ]
  },
  {
   "cell_type": "code",
   "execution_count": 0,
   "metadata": {
    "collapsed": true
   },
   "outputs": [],
   "source": [
    "from numpy import trapz\n",
    "\n",
    "logreturns = np.log(returns)\n",
    "\n",
    "# the theory gives us the mean and variance\n",
    "# at the limit when N goes to infinity\n",
    "# the last line is to \"normalize\" so that the curves and\n",
    "# the points are on the same scale \n",
    "# (you can safely ignore all this)\n",
    "th_mean = N*(p*np.log(u)+(1-p)*np.log(d))\n",
    "th_var  = N*p*(1-p)*np.log(d/u)**2\n",
    "pr_norm  = probas / abs(trapz(logreturns,probas))\n",
    "\n",
    "# show the possible log-returns with their weights\n",
    "plt.scatter(logreturns, pr_norm, label=\"Log returns\")\n",
    "\n",
    "# show the normal distribution with the theoretical mean and variance\n",
    "# computed above\n",
    "xx = np.linspace(np.min(logreturns),np.max(logreturns),100)\n",
    "yy = norm.pdf(xx,th_mean,np.sqrt(th_var))\n",
    "\n",
    "plt.plot(xx, yy, label=\"Normal fit\", color=\"orange\")\n",
    "\n",
    "plt.legend()"
   ]
  },
  {
   "cell_type": "markdown",
   "metadata": {},
   "source": [
    "## Pricing in a BT? easy!\n",
    "\n",
    "Write a code that reproduces each of the step of the pricing in a BT. \n",
    "\n",
    "Start by doing it step by step and check that you can get something like this result:\n",
    "\n",
    "```\n",
    "Forward\n",
    "100\n",
    "[  99.  102.]\n",
    "[  98.01  100.98  104.04]\n",
    "Backward\n",
    "[ 0.    1.98  5.04]\n",
    "[ 0.66  3.  ]\n",
    "1.44\n",
    "```\n",
    "\n",
    "can you now make it into a function?\n"
   ]
  },
  {
   "cell_type": "code",
   "execution_count": 0,
   "metadata": {
    "collapsed": true
   },
   "outputs": [],
   "source": [
    "# EUROPEAN CALL\n",
    "S0 = 100\n",
    "K  = 99\n",
    "u  = 1.02\n",
    "d  = 0.99\n",
    "# Add your code here...\n",
    "S1 = S0 * np.array([u, d])\n",
    "S2 = S0 * np.array([u**2, u*d, d**2])\n",
    "\n",
    "   \n"
   ]
  }
 ],
 "metadata": {
  "anaconda-cloud": {},
  "kernelspec": {
   "display_name": "Python 3",
   "language": "python",
   "name": "python3"
  },
  "language_info": {
   "codemirror_mode": {
    "name": "ipython",
    "version": 3
   },
   "file_extension": ".py",
   "mimetype": "text/x-python",
   "name": "python",
   "nbconvert_exporter": "python",
   "pygments_lexer": "ipython3",
   "version": "3.6.1"
  }
 },
 "nbformat": 4,
 "nbformat_minor": 1
}
